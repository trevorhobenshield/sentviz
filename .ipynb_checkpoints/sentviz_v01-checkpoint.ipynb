{
 "cells": [
  {
   "cell_type": "code",
   "execution_count": 1,
   "id": "115ad9da",
   "metadata": {},
   "outputs": [
    {
     "name": "stderr",
     "output_type": "stream",
     "text": [
      "2022-01-17 20:13:29.287500: W tensorflow/stream_executor/platform/default/dso_loader.cc:64] Could not load dynamic library 'libcudart.so.11.0'; dlerror: libcudart.so.11.0: cannot open shared object file: No such file or directory\n",
      "2022-01-17 20:13:29.287523: I tensorflow/stream_executor/cuda/cudart_stub.cc:29] Ignore above cudart dlerror if you do not have a GPU set up on your machine.\n"
     ]
    },
    {
     "name": "stdout",
     "output_type": "stream",
     "text": [
      "Using cpu\n"
     ]
    }
   ],
   "source": [
    "import os\n",
    "import pandas as pd\n",
    "import numpy as np\n",
    "import tweepy\n",
    "from IPython.core.display import display, HTML\n",
    "from dotenv import load_dotenv\n",
    "from transformers import AutoTokenizer\n",
    "from transformers import pipeline\n",
    "import plotly.express as px\n",
    "import plotly.graph_objects as go\n",
    "from tqdm import tqdm\n",
    "import torch\n",
    "device='cuda'if torch.cuda.is_available()else'cpu';print(f'Using {device}')\n",
    "load_dotenv()\n",
    "\n",
    "S = {'negative':'red','neutral':'yellow','positive':'green'}\n",
    "\n",
    "def view(df_):\n",
    "    with pd.option_context('display.max_rows',None,'display.max_columns',None,'display.width',None):\n",
    "        display(HTML(df_.to_html()))\n",
    "\n",
    "\n",
    "API_KEY = os.getenv('API_KEY')\n",
    "API_KEY_SECRET = os.getenv('API_KEY_SECRET')\n",
    "ACCESS_TOKEN = os.getenv('ACCESS_TOKEN')\n",
    "ACCESS_TOKEN_SECRET = os.getenv('ACCESS_TOKEN_SECRET')"
   ]
  },
  {
   "cell_type": "code",
   "execution_count": 2,
   "id": "beaae7e7",
   "metadata": {},
   "outputs": [],
   "source": [
    "auth = tweepy.OAuthHandler(API_KEY, API_KEY_SECRET)\n",
    "auth.set_access_token(ACCESS_TOKEN, ACCESS_TOKEN_SECRET)\n",
    "api = tweepy.API(auth)\n",
    "# view(pd.json_normalize(api.rate_limit_status()).T)"
   ]
  },
  {
   "cell_type": "code",
   "execution_count": 3,
   "id": "358b3220",
   "metadata": {},
   "outputs": [],
   "source": [
    "model_name = \"cardiffnlp/twitter-roberta-base-sentiment\"\n",
    "clf = pipeline(\n",
    "    task='sentiment-analysis',\n",
    "    model=model_name,\n",
    "    tokenizer=AutoTokenizer.from_pretrained(model_name)\n",
    ")"
   ]
  },
  {
   "cell_type": "markdown",
   "id": "38d236cf",
   "metadata": {},
   "source": [
    "### Get data by search"
   ]
  },
  {
   "cell_type": "code",
   "execution_count": 30,
   "id": "357cf2d4",
   "metadata": {},
   "outputs": [
    {
     "name": "stderr",
     "output_type": "stream",
     "text": [
      "500it [00:09, 53.88it/s]\n"
     ]
    }
   ],
   "source": [
    "limit = 500\n",
    "q = \"trudeau\"\n",
    "data = [_ for _ in tqdm(tweepy.Cursor(api.search_tweets,q=q,tweet_mode='extended').items(limit))]\n",
    "tweets = [{'tweet':d.full_text,'date':d.created_at,'search_term':q,'poster':d.user.screen_name}for d in data]"
   ]
  },
  {
   "cell_type": "markdown",
   "id": "03596b9d",
   "metadata": {},
   "source": [
    "### Get data by screen name"
   ]
  },
  {
   "cell_type": "code",
   "execution_count": 24,
   "id": "916099a2",
   "metadata": {},
   "outputs": [],
   "source": [
    "# limit = 10\n",
    "# screen_name = 'ringostarrmusic'\n",
    "# data = [t for t in tweepy.Cursor(api.user_timeline,screen_name=screen_name, tweet_mode='extended').items(limit)]\n",
    "# tweets = [{'tweet':d.full_text,'date':d.created_at,'screen_name':d.user.screen_name}for d in data]"
   ]
  },
  {
   "cell_type": "markdown",
   "id": "9930fbad",
   "metadata": {},
   "source": [
    "### Inference"
   ]
  },
  {
   "cell_type": "code",
   "execution_count": null,
   "id": "4e7e1901",
   "metadata": {
    "scrolled": true
   },
   "outputs": [],
   "source": [
    "out = clf([t['tweet'] for t in tweets])"
   ]
  },
  {
   "cell_type": "code",
   "execution_count": null,
   "id": "80c27c3c",
   "metadata": {
    "scrolled": true
   },
   "outputs": [],
   "source": [
    "df = pd.concat([pd.DataFrame(tweets),pd.DataFrame(out)],axis=1).sort_values('date')\n",
    "df.rename({'label':'sentiment'},axis=1,inplace=True)\n",
    "df['sentiment'] = df['sentiment'].map({'LABEL_0':'negative','LABEL_1':'neutral','LABEL_2':'positive'})\n",
    "# subset = pd.IndexSlice['label']\n",
    "df.style.apply(lambda x:[\"background:red\"if'negative'in x.iloc[0]else\"background:green\"if'positive'in x.iloc[0]else\"background:yellow\"for v in x],axis=1,subset='sentiment')"
   ]
  },
  {
   "cell_type": "markdown",
   "id": "767d7ee0",
   "metadata": {},
   "source": [
    "### View tweet sentiments over time"
   ]
  },
  {
   "cell_type": "code",
   "execution_count": null,
   "id": "e6f410e5",
   "metadata": {},
   "outputs": [],
   "source": [
    "fig = px.histogram(df,\n",
    "                   x=\"date\",\n",
    "                   color=\"sentiment\",\n",
    "                   text_auto=True,\n",
    "                   color_discrete_map=S,\n",
    "                   nbins=100)\n",
    "fig.show()"
   ]
  },
  {
   "cell_type": "markdown",
   "id": "67aacf7d",
   "metadata": {},
   "source": [
    "### View cumulative sentiment over time"
   ]
  },
  {
   "cell_type": "code",
   "execution_count": null,
   "id": "46c94a6a",
   "metadata": {},
   "outputs": [],
   "source": [
    "## encode sentiment labels for plotting\n",
    "df=pd.concat([pd.get_dummies(df['sentiment']),df],axis=1)\n",
    "for _ in list(S):\n",
    "    if _ in df:\n",
    "        df[f'{_}_c'] = df[_].cumsum()"
   ]
  },
  {
   "cell_type": "code",
   "execution_count": null,
   "id": "1c76a896",
   "metadata": {},
   "outputs": [],
   "source": [
    "fig=go.Figure()\n",
    "# only add sentiments labels that exist in data\n",
    "for k,v in {k:v for k,v in S.items()if k in set(df['sentiment'])&S.keys()}.items():\n",
    "    fig.add_trace(go.Scatter(x=df['date'],y=df[f'{k}_c'],mode='lines',name=k,line_color=v))\n",
    "        \n",
    "fig.update_layout(\n",
    "    title=dict(\n",
    "        text='Cumulative Sentiment',\n",
    "        y=0.9,\n",
    "        x=0.5,\n",
    "        xanchor='center',\n",
    "        yanchor='top'),\n",
    "    xaxis_title='Time',\n",
    "    yaxis_title='Count',\n",
    "    legend_title='Sentiment',\n",
    "    font=dict(\n",
    "        family='Arial',\n",
    "        size=12,\n",
    "        color='Black'\n",
    "    )\n",
    ")        \n",
    "fig.show()"
   ]
  }
 ],
 "metadata": {
  "kernelspec": {
   "display_name": "Python 3 (ipykernel)",
   "language": "python",
   "name": "python3"
  },
  "language_info": {
   "codemirror_mode": {
    "name": "ipython",
    "version": 3
   },
   "file_extension": ".py",
   "mimetype": "text/x-python",
   "name": "python",
   "nbconvert_exporter": "python",
   "pygments_lexer": "ipython3",
   "version": "3.9.7"
  }
 },
 "nbformat": 4,
 "nbformat_minor": 5
}
