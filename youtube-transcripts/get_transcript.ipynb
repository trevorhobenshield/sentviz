{
 "cells": [
  {
   "cell_type": "code",
   "execution_count": 1,
   "id": "70f04435",
   "metadata": {
    "slideshow": {
     "slide_type": "fragment"
    }
   },
   "outputs": [
    {
     "name": "stderr",
     "output_type": "stream",
     "text": [
      "100%|█████████████████████████████████████████████████████████████████| 1/1 [00:05<00:00,  5.64s/it]\n"
     ]
    }
   ],
   "source": [
    "from math import floor\n",
    "from pathlib import Path\n",
    "import pandas as pd\n",
    "from tqdm import tqdm\n",
    "from youtube_transcript_api import YouTubeTranscriptApi\n",
    "\n",
    "# get video ids for each video\n",
    "urls = Path('urls.txt').read_text().split()\n",
    "video_ids = [u.split('&')[0].split('?v=')[1] for u in urls]\n",
    "\n",
    "# ensure all video ids were extracted\n",
    "assert len(urls) == len(video_ids)\n",
    "\n",
    "# get transcript and timestamp-url for each transcript segment\n",
    "data = []\n",
    "for v in tqdm(video_ids):\n",
    "    data.extend([{'url': f'https://www.youtube.com/watch?v={v}&t={floor(t[\"start\"] - 1)}',\n",
    "                  'text': t['text']} for t in YouTubeTranscriptApi.get_transcript(v)])\n",
    "df = pd.json_normalize(data).drop_duplicates()\n",
    "df.to_parquet('transcript.parquet')"
   ]
  }
 ],
 "metadata": {
  "kernelspec": {
   "display_name": "Python 3 (ipykernel)",
   "language": "python",
   "name": "python3"
  },
  "language_info": {
   "codemirror_mode": {
    "name": "ipython",
    "version": 3
   },
   "file_extension": ".py",
   "mimetype": "text/x-python",
   "name": "python",
   "nbconvert_exporter": "python",
   "pygments_lexer": "ipython3",
   "version": "3.9.7"
  }
 },
 "nbformat": 4,
 "nbformat_minor": 5
}
