{
 "cells": [
  {
   "cell_type": "code",
   "execution_count": 20,
   "id": "f57a08ea",
   "metadata": {},
   "outputs": [
    {
     "name": "stdout",
     "output_type": "stream",
     "text": [
      "Using cpu\n"
     ]
    }
   ],
   "source": [
    "import re\n",
    "from enum import Enum\n",
    "import pandas as pd\n",
    "import plotly.express as px\n",
    "import torch\n",
    "from IPython.core.display import display, HTML\n",
    "from dotenv import load_dotenv\n",
    "from transformers import AutoModelForSequenceClassification\n",
    "from transformers import AutoTokenizer\n",
    "from transformers import pipeline\n",
    "device = 'cuda' if torch.cuda.is_available() else 'cpu';print(f'Using {device}')\n",
    "load_dotenv()\n",
    "\n",
    "S = {'NEGATIVE': 'red', 'NEUTRAL': 'yellow', 'POSITIVE': 'green'}\n",
    "\n",
    "Label = Enum('Label', 'NEGATIVE NEUTRAL POSITIVE', start=0)\n",
    "\n",
    "\n",
    "def view(df_, *args, **kwargs):\n",
    "    with pd.option_context('display.max_rows', None, 'display.max_columns', None, 'display.width', None):\n",
    "        if args:\n",
    "            if args[0] == -1:  # view all\n",
    "                display(HTML(df_.head(len(df_)).to_html()))\n",
    "            else:\n",
    "                display(HTML(df_.head(args[0]).to_html()))\n",
    "                display(HTML(df_.tail(args[1]).to_html()))\n",
    "        elif kwargs:\n",
    "            display(HTML(df_.head(kwargs['head']).to_html()))\n",
    "            display(HTML(df_.tail(kwargs['tail']).to_html()))\n",
    "\n",
    "\n",
    "def convert_label(clf_output):\n",
    "    return Label(int(clf_output['label'].split('_')[-1])).name\n",
    "\n",
    "\n",
    "def query_transcript(d, q, w, f):\n",
    "    \"\"\"\n",
    "    d:  dataframe     - DataFrame containing trascript text and urls\n",
    "    w:  width         - How much many surrounding text entries to include from the dataframe\n",
    "                        as context for the query.\n",
    "    q:  query         - The keyword or phrase to search in the transcript.\n",
    "    f: regex flag\n",
    "    \"\"\"\n",
    "    match_idxs = d.query('text.str.contains(@q,regex=True,flags=@f)', engine='python').index.values\n",
    "    match_text = [' '.join(d.loc[i - w:i + w].text).replace('\\n', ' ') for i in match_idxs]\n",
    "    match_df = d.loc[match_idxs]\n",
    "    return match_text, match_df\n",
    "\n",
    "\n",
    "def infer(clf, text):\n",
    "    return [{'label': convert_label(d), 'score': d['score']} for d in clf(text)]\n",
    "\n",
    "\n",
    "def sent_df(text, sent):\n",
    "    return pd.DataFrame([a | b for a, b in zip([{'text': t} for t in text], sent)])\n",
    "\n",
    "\n",
    "def colour_df(sent_slice):\n",
    "    return sent_slice.style.apply(lambda x: [\n",
    "        \"background:red\" if 'NEGATIVE' in x.iloc[0] else \"background:green\" if 'POSITIVE' in x.iloc[\n",
    "            0] else \"background:yellow\" for v in x], axis=1, subset='label')\n",
    "\n",
    "def viz(sent,sent_slice):\n",
    "    fig = px.pie(sent, names='label', color='label', color_discrete_map=S, width=400, height=400)\n",
    "    fig.update_traces(textposition='inside', textinfo='percent+label')\n",
    "    fig.show()\n",
    "    return colour_df(sent_slice)\n",
    "\n",
    "# def get_avg_sents(sents):\n",
    "#     return {k:v for d in[{s:np.mean(sents[sents.label==s].score)} for s in sents.label.unique()]for k,v in d.items()}\n",
    "\n",
    "# def get_sent_ratio(sents):\n",
    "#     return {k:v for d in[{s:sum(sents.label.str.count(s))/len(sents)} for s in sents.label.unique()]for k,v in d.items()}\n",
    "# read transcript data\n",
    "\n"
   ]
  },
  {
   "cell_type": "code",
   "execution_count": 2,
   "id": "db287f13",
   "metadata": {},
   "outputs": [],
   "source": [
    "df = pd.read_parquet('/home/x/Documents/youtube_transcript_scraper/yt_transcripts_fastai.parquet')\n",
    "df.drop_duplicates(inplace=True)\n",
    "\n",
    "model_name = \"cardiffnlp/twitter-roberta-base-sentiment\"\n",
    "tokenizer = AutoTokenizer.from_pretrained(model_name)\n",
    "model = AutoModelForSequenceClassification.from_pretrained(model_name)\n",
    "clf = pipeline(\n",
    "    task='sentiment-analysis',\n",
    "    model=model_name,\n",
    "    tokenizer=tokenizer,\n",
    "    max_length=512,\n",
    "    truncation=True\n",
    ")"
   ]
  },
  {
   "cell_type": "code",
   "execution_count": 3,
   "id": "e0f56c6b",
   "metadata": {},
   "outputs": [],
   "source": [
    "match_text, match_df = query_transcript(df, ' machine ', 1, re.I)"
   ]
  },
  {
   "cell_type": "code",
   "execution_count": 18,
   "id": "e109cc42",
   "metadata": {},
   "outputs": [],
   "source": [
    "data = infer(clf, match_text)\n",
    "sents = sent_df(match_text, data)"
   ]
  },
  {
   "cell_type": "code",
   "execution_count": 19,
   "id": "1d1d80ab",
   "metadata": {},
   "outputs": [
    {
     "data": {
      "application/vnd.plotly.v1+json": {
       "config": {
        "plotlyServerURL": "https://plot.ly"
       },
       "data": [
        {
         "customdata": [
          [
           "NEUTRAL"
          ],
          [
           "POSITIVE"
          ],
          [
           "POSITIVE"
          ],
          [
           "NEUTRAL"
          ],
          [
           "NEUTRAL"
          ],
          [
           "POSITIVE"
          ],
          [
           "POSITIVE"
          ],
          [
           "NEUTRAL"
          ],
          [
           "NEUTRAL"
          ],
          [
           "NEUTRAL"
          ],
          [
           "NEUTRAL"
          ],
          [
           "POSITIVE"
          ],
          [
           "POSITIVE"
          ],
          [
           "NEGATIVE"
          ],
          [
           "NEUTRAL"
          ],
          [
           "NEUTRAL"
          ],
          [
           "NEUTRAL"
          ],
          [
           "NEUTRAL"
          ],
          [
           "NEUTRAL"
          ],
          [
           "NEUTRAL"
          ],
          [
           "NEUTRAL"
          ],
          [
           "NEUTRAL"
          ],
          [
           "NEUTRAL"
          ],
          [
           "NEUTRAL"
          ],
          [
           "NEGATIVE"
          ],
          [
           "POSITIVE"
          ],
          [
           "NEUTRAL"
          ],
          [
           "NEUTRAL"
          ],
          [
           "NEUTRAL"
          ],
          [
           "NEUTRAL"
          ],
          [
           "NEUTRAL"
          ],
          [
           "NEUTRAL"
          ],
          [
           "NEUTRAL"
          ],
          [
           "POSITIVE"
          ],
          [
           "POSITIVE"
          ],
          [
           "NEUTRAL"
          ],
          [
           "NEUTRAL"
          ],
          [
           "NEGATIVE"
          ],
          [
           "NEUTRAL"
          ],
          [
           "NEGATIVE"
          ],
          [
           "NEUTRAL"
          ],
          [
           "NEUTRAL"
          ],
          [
           "POSITIVE"
          ],
          [
           "NEGATIVE"
          ],
          [
           "NEUTRAL"
          ],
          [
           "POSITIVE"
          ],
          [
           "POSITIVE"
          ],
          [
           "NEUTRAL"
          ],
          [
           "NEUTRAL"
          ],
          [
           "NEUTRAL"
          ],
          [
           "POSITIVE"
          ],
          [
           "POSITIVE"
          ],
          [
           "NEGATIVE"
          ],
          [
           "NEUTRAL"
          ],
          [
           "NEUTRAL"
          ],
          [
           "NEUTRAL"
          ],
          [
           "NEUTRAL"
          ],
          [
           "NEUTRAL"
          ],
          [
           "POSITIVE"
          ],
          [
           "NEUTRAL"
          ],
          [
           "NEUTRAL"
          ],
          [
           "NEUTRAL"
          ],
          [
           "NEUTRAL"
          ],
          [
           "NEUTRAL"
          ],
          [
           "NEUTRAL"
          ],
          [
           "NEUTRAL"
          ],
          [
           "NEGATIVE"
          ],
          [
           "NEUTRAL"
          ],
          [
           "NEUTRAL"
          ],
          [
           "NEUTRAL"
          ],
          [
           "NEUTRAL"
          ],
          [
           "NEUTRAL"
          ],
          [
           "NEUTRAL"
          ],
          [
           "NEUTRAL"
          ],
          [
           "NEUTRAL"
          ],
          [
           "NEUTRAL"
          ],
          [
           "NEUTRAL"
          ],
          [
           "POSITIVE"
          ],
          [
           "NEUTRAL"
          ],
          [
           "NEUTRAL"
          ],
          [
           "NEUTRAL"
          ],
          [
           "NEUTRAL"
          ],
          [
           "POSITIVE"
          ],
          [
           "NEUTRAL"
          ],
          [
           "NEUTRAL"
          ],
          [
           "NEUTRAL"
          ],
          [
           "NEUTRAL"
          ],
          [
           "NEUTRAL"
          ],
          [
           "NEUTRAL"
          ],
          [
           "POSITIVE"
          ],
          [
           "NEGATIVE"
          ],
          [
           "NEUTRAL"
          ],
          [
           "NEUTRAL"
          ],
          [
           "NEUTRAL"
          ],
          [
           "NEUTRAL"
          ],
          [
           "NEUTRAL"
          ],
          [
           "NEGATIVE"
          ],
          [
           "NEUTRAL"
          ],
          [
           "NEUTRAL"
          ],
          [
           "NEUTRAL"
          ],
          [
           "NEUTRAL"
          ],
          [
           "NEUTRAL"
          ],
          [
           "NEUTRAL"
          ],
          [
           "NEUTRAL"
          ],
          [
           "NEUTRAL"
          ],
          [
           "POSITIVE"
          ],
          [
           "NEUTRAL"
          ],
          [
           "NEUTRAL"
          ],
          [
           "NEUTRAL"
          ],
          [
           "NEUTRAL"
          ],
          [
           "NEUTRAL"
          ],
          [
           "NEUTRAL"
          ],
          [
           "POSITIVE"
          ],
          [
           "NEUTRAL"
          ],
          [
           "POSITIVE"
          ],
          [
           "POSITIVE"
          ],
          [
           "NEUTRAL"
          ],
          [
           "NEUTRAL"
          ],
          [
           "NEGATIVE"
          ],
          [
           "POSITIVE"
          ],
          [
           "POSITIVE"
          ],
          [
           "NEUTRAL"
          ],
          [
           "NEUTRAL"
          ],
          [
           "NEUTRAL"
          ],
          [
           "NEUTRAL"
          ],
          [
           "NEUTRAL"
          ],
          [
           "NEUTRAL"
          ],
          [
           "POSITIVE"
          ],
          [
           "NEUTRAL"
          ],
          [
           "NEUTRAL"
          ],
          [
           "NEUTRAL"
          ],
          [
           "NEUTRAL"
          ],
          [
           "NEUTRAL"
          ],
          [
           "NEUTRAL"
          ],
          [
           "NEUTRAL"
          ],
          [
           "NEUTRAL"
          ],
          [
           "NEUTRAL"
          ],
          [
           "NEUTRAL"
          ],
          [
           "POSITIVE"
          ],
          [
           "NEUTRAL"
          ],
          [
           "NEUTRAL"
          ],
          [
           "NEUTRAL"
          ],
          [
           "NEUTRAL"
          ],
          [
           "NEUTRAL"
          ],
          [
           "NEUTRAL"
          ],
          [
           "NEUTRAL"
          ],
          [
           "NEUTRAL"
          ],
          [
           "NEUTRAL"
          ],
          [
           "NEUTRAL"
          ],
          [
           "NEUTRAL"
          ],
          [
           "NEUTRAL"
          ],
          [
           "POSITIVE"
          ],
          [
           "POSITIVE"
          ],
          [
           "NEUTRAL"
          ],
          [
           "NEUTRAL"
          ],
          [
           "NEUTRAL"
          ],
          [
           "NEUTRAL"
          ],
          [
           "NEUTRAL"
          ],
          [
           "NEUTRAL"
          ],
          [
           "NEUTRAL"
          ],
          [
           "NEUTRAL"
          ],
          [
           "NEUTRAL"
          ],
          [
           "NEGATIVE"
          ],
          [
           "NEUTRAL"
          ],
          [
           "POSITIVE"
          ],
          [
           "POSITIVE"
          ],
          [
           "POSITIVE"
          ],
          [
           "POSITIVE"
          ],
          [
           "NEGATIVE"
          ],
          [
           "POSITIVE"
          ],
          [
           "NEGATIVE"
          ],
          [
           "POSITIVE"
          ],
          [
           "NEUTRAL"
          ],
          [
           "POSITIVE"
          ],
          [
           "NEUTRAL"
          ],
          [
           "POSITIVE"
          ],
          [
           "NEUTRAL"
          ],
          [
           "NEUTRAL"
          ],
          [
           "NEUTRAL"
          ],
          [
           "NEUTRAL"
          ],
          [
           "NEUTRAL"
          ],
          [
           "NEUTRAL"
          ],
          [
           "NEUTRAL"
          ],
          [
           "NEGATIVE"
          ],
          [
           "POSITIVE"
          ],
          [
           "NEGATIVE"
          ],
          [
           "POSITIVE"
          ],
          [
           "POSITIVE"
          ],
          [
           "NEUTRAL"
          ],
          [
           "POSITIVE"
          ],
          [
           "NEGATIVE"
          ],
          [
           "POSITIVE"
          ],
          [
           "NEGATIVE"
          ],
          [
           "NEUTRAL"
          ],
          [
           "NEUTRAL"
          ],
          [
           "NEUTRAL"
          ],
          [
           "NEUTRAL"
          ],
          [
           "NEUTRAL"
          ],
          [
           "NEUTRAL"
          ],
          [
           "NEUTRAL"
          ],
          [
           "NEUTRAL"
          ],
          [
           "NEUTRAL"
          ],
          [
           "NEUTRAL"
          ],
          [
           "NEUTRAL"
          ],
          [
           "NEUTRAL"
          ],
          [
           "NEUTRAL"
          ],
          [
           "NEUTRAL"
          ],
          [
           "POSITIVE"
          ],
          [
           "NEUTRAL"
          ],
          [
           "POSITIVE"
          ],
          [
           "POSITIVE"
          ],
          [
           "NEGATIVE"
          ],
          [
           "POSITIVE"
          ],
          [
           "NEUTRAL"
          ],
          [
           "POSITIVE"
          ],
          [
           "NEGATIVE"
          ],
          [
           "NEUTRAL"
          ],
          [
           "NEUTRAL"
          ],
          [
           "NEUTRAL"
          ],
          [
           "POSITIVE"
          ],
          [
           "POSITIVE"
          ],
          [
           "NEGATIVE"
          ],
          [
           "NEGATIVE"
          ],
          [
           "POSITIVE"
          ],
          [
           "NEGATIVE"
          ],
          [
           "NEGATIVE"
          ],
          [
           "POSITIVE"
          ],
          [
           "NEUTRAL"
          ],
          [
           "NEUTRAL"
          ],
          [
           "NEUTRAL"
          ],
          [
           "NEUTRAL"
          ],
          [
           "POSITIVE"
          ],
          [
           "POSITIVE"
          ],
          [
           "NEUTRAL"
          ],
          [
           "POSITIVE"
          ],
          [
           "NEUTRAL"
          ],
          [
           "NEUTRAL"
          ]
         ],
         "domain": {
          "x": [
           0,
           1
          ],
          "y": [
           0,
           1
          ]
         },
         "hovertemplate": "label=%{customdata[0]}<extra></extra>",
         "labels": [
          "NEUTRAL",
          "POSITIVE",
          "POSITIVE",
          "NEUTRAL",
          "NEUTRAL",
          "POSITIVE",
          "POSITIVE",
          "NEUTRAL",
          "NEUTRAL",
          "NEUTRAL",
          "NEUTRAL",
          "POSITIVE",
          "POSITIVE",
          "NEGATIVE",
          "NEUTRAL",
          "NEUTRAL",
          "NEUTRAL",
          "NEUTRAL",
          "NEUTRAL",
          "NEUTRAL",
          "NEUTRAL",
          "NEUTRAL",
          "NEUTRAL",
          "NEUTRAL",
          "NEGATIVE",
          "POSITIVE",
          "NEUTRAL",
          "NEUTRAL",
          "NEUTRAL",
          "NEUTRAL",
          "NEUTRAL",
          "NEUTRAL",
          "NEUTRAL",
          "POSITIVE",
          "POSITIVE",
          "NEUTRAL",
          "NEUTRAL",
          "NEGATIVE",
          "NEUTRAL",
          "NEGATIVE",
          "NEUTRAL",
          "NEUTRAL",
          "POSITIVE",
          "NEGATIVE",
          "NEUTRAL",
          "POSITIVE",
          "POSITIVE",
          "NEUTRAL",
          "NEUTRAL",
          "NEUTRAL",
          "POSITIVE",
          "POSITIVE",
          "NEGATIVE",
          "NEUTRAL",
          "NEUTRAL",
          "NEUTRAL",
          "NEUTRAL",
          "NEUTRAL",
          "POSITIVE",
          "NEUTRAL",
          "NEUTRAL",
          "NEUTRAL",
          "NEUTRAL",
          "NEUTRAL",
          "NEUTRAL",
          "NEUTRAL",
          "NEGATIVE",
          "NEUTRAL",
          "NEUTRAL",
          "NEUTRAL",
          "NEUTRAL",
          "NEUTRAL",
          "NEUTRAL",
          "NEUTRAL",
          "NEUTRAL",
          "NEUTRAL",
          "NEUTRAL",
          "POSITIVE",
          "NEUTRAL",
          "NEUTRAL",
          "NEUTRAL",
          "NEUTRAL",
          "POSITIVE",
          "NEUTRAL",
          "NEUTRAL",
          "NEUTRAL",
          "NEUTRAL",
          "NEUTRAL",
          "NEUTRAL",
          "POSITIVE",
          "NEGATIVE",
          "NEUTRAL",
          "NEUTRAL",
          "NEUTRAL",
          "NEUTRAL",
          "NEUTRAL",
          "NEGATIVE",
          "NEUTRAL",
          "NEUTRAL",
          "NEUTRAL",
          "NEUTRAL",
          "NEUTRAL",
          "NEUTRAL",
          "NEUTRAL",
          "NEUTRAL",
          "POSITIVE",
          "NEUTRAL",
          "NEUTRAL",
          "NEUTRAL",
          "NEUTRAL",
          "NEUTRAL",
          "NEUTRAL",
          "POSITIVE",
          "NEUTRAL",
          "POSITIVE",
          "POSITIVE",
          "NEUTRAL",
          "NEUTRAL",
          "NEGATIVE",
          "POSITIVE",
          "POSITIVE",
          "NEUTRAL",
          "NEUTRAL",
          "NEUTRAL",
          "NEUTRAL",
          "NEUTRAL",
          "NEUTRAL",
          "POSITIVE",
          "NEUTRAL",
          "NEUTRAL",
          "NEUTRAL",
          "NEUTRAL",
          "NEUTRAL",
          "NEUTRAL",
          "NEUTRAL",
          "NEUTRAL",
          "NEUTRAL",
          "NEUTRAL",
          "POSITIVE",
          "NEUTRAL",
          "NEUTRAL",
          "NEUTRAL",
          "NEUTRAL",
          "NEUTRAL",
          "NEUTRAL",
          "NEUTRAL",
          "NEUTRAL",
          "NEUTRAL",
          "NEUTRAL",
          "NEUTRAL",
          "NEUTRAL",
          "POSITIVE",
          "POSITIVE",
          "NEUTRAL",
          "NEUTRAL",
          "NEUTRAL",
          "NEUTRAL",
          "NEUTRAL",
          "NEUTRAL",
          "NEUTRAL",
          "NEUTRAL",
          "NEUTRAL",
          "NEGATIVE",
          "NEUTRAL",
          "POSITIVE",
          "POSITIVE",
          "POSITIVE",
          "POSITIVE",
          "NEGATIVE",
          "POSITIVE",
          "NEGATIVE",
          "POSITIVE",
          "NEUTRAL",
          "POSITIVE",
          "NEUTRAL",
          "POSITIVE",
          "NEUTRAL",
          "NEUTRAL",
          "NEUTRAL",
          "NEUTRAL",
          "NEUTRAL",
          "NEUTRAL",
          "NEUTRAL",
          "NEGATIVE",
          "POSITIVE",
          "NEGATIVE",
          "POSITIVE",
          "POSITIVE",
          "NEUTRAL",
          "POSITIVE",
          "NEGATIVE",
          "POSITIVE",
          "NEGATIVE",
          "NEUTRAL",
          "NEUTRAL",
          "NEUTRAL",
          "NEUTRAL",
          "NEUTRAL",
          "NEUTRAL",
          "NEUTRAL",
          "NEUTRAL",
          "NEUTRAL",
          "NEUTRAL",
          "NEUTRAL",
          "NEUTRAL",
          "NEUTRAL",
          "NEUTRAL",
          "POSITIVE",
          "NEUTRAL",
          "POSITIVE",
          "POSITIVE",
          "NEGATIVE",
          "POSITIVE",
          "NEUTRAL",
          "POSITIVE",
          "NEGATIVE",
          "NEUTRAL",
          "NEUTRAL",
          "NEUTRAL",
          "POSITIVE",
          "POSITIVE",
          "NEGATIVE",
          "NEGATIVE",
          "POSITIVE",
          "NEGATIVE",
          "NEGATIVE",
          "POSITIVE",
          "NEUTRAL",
          "NEUTRAL",
          "NEUTRAL",
          "NEUTRAL",
          "POSITIVE",
          "POSITIVE",
          "NEUTRAL",
          "POSITIVE",
          "NEUTRAL",
          "NEUTRAL"
         ],
         "legendgroup": "",
         "marker": {
          "colors": [
           "yellow",
           "green",
           "green",
           "yellow",
           "yellow",
           "green",
           "green",
           "yellow",
           "yellow",
           "yellow",
           "yellow",
           "green",
           "green",
           "red",
           "yellow",
           "yellow",
           "yellow",
           "yellow",
           "yellow",
           "yellow",
           "yellow",
           "yellow",
           "yellow",
           "yellow",
           "red",
           "green",
           "yellow",
           "yellow",
           "yellow",
           "yellow",
           "yellow",
           "yellow",
           "yellow",
           "green",
           "green",
           "yellow",
           "yellow",
           "red",
           "yellow",
           "red",
           "yellow",
           "yellow",
           "green",
           "red",
           "yellow",
           "green",
           "green",
           "yellow",
           "yellow",
           "yellow",
           "green",
           "green",
           "red",
           "yellow",
           "yellow",
           "yellow",
           "yellow",
           "yellow",
           "green",
           "yellow",
           "yellow",
           "yellow",
           "yellow",
           "yellow",
           "yellow",
           "yellow",
           "red",
           "yellow",
           "yellow",
           "yellow",
           "yellow",
           "yellow",
           "yellow",
           "yellow",
           "yellow",
           "yellow",
           "yellow",
           "green",
           "yellow",
           "yellow",
           "yellow",
           "yellow",
           "green",
           "yellow",
           "yellow",
           "yellow",
           "yellow",
           "yellow",
           "yellow",
           "green",
           "red",
           "yellow",
           "yellow",
           "yellow",
           "yellow",
           "yellow",
           "red",
           "yellow",
           "yellow",
           "yellow",
           "yellow",
           "yellow",
           "yellow",
           "yellow",
           "yellow",
           "green",
           "yellow",
           "yellow",
           "yellow",
           "yellow",
           "yellow",
           "yellow",
           "green",
           "yellow",
           "green",
           "green",
           "yellow",
           "yellow",
           "red",
           "green",
           "green",
           "yellow",
           "yellow",
           "yellow",
           "yellow",
           "yellow",
           "yellow",
           "green",
           "yellow",
           "yellow",
           "yellow",
           "yellow",
           "yellow",
           "yellow",
           "yellow",
           "yellow",
           "yellow",
           "yellow",
           "green",
           "yellow",
           "yellow",
           "yellow",
           "yellow",
           "yellow",
           "yellow",
           "yellow",
           "yellow",
           "yellow",
           "yellow",
           "yellow",
           "yellow",
           "green",
           "green",
           "yellow",
           "yellow",
           "yellow",
           "yellow",
           "yellow",
           "yellow",
           "yellow",
           "yellow",
           "yellow",
           "red",
           "yellow",
           "green",
           "green",
           "green",
           "green",
           "red",
           "green",
           "red",
           "green",
           "yellow",
           "green",
           "yellow",
           "green",
           "yellow",
           "yellow",
           "yellow",
           "yellow",
           "yellow",
           "yellow",
           "yellow",
           "red",
           "green",
           "red",
           "green",
           "green",
           "yellow",
           "green",
           "red",
           "green",
           "red",
           "yellow",
           "yellow",
           "yellow",
           "yellow",
           "yellow",
           "yellow",
           "yellow",
           "yellow",
           "yellow",
           "yellow",
           "yellow",
           "yellow",
           "yellow",
           "yellow",
           "green",
           "yellow",
           "green",
           "green",
           "red",
           "green",
           "yellow",
           "green",
           "red",
           "yellow",
           "yellow",
           "yellow",
           "green",
           "green",
           "red",
           "red",
           "green",
           "red",
           "red",
           "green",
           "yellow",
           "yellow",
           "yellow",
           "yellow",
           "green",
           "green",
           "yellow",
           "green",
           "yellow",
           "yellow"
          ]
         },
         "name": "",
         "showlegend": true,
         "textinfo": "percent+label",
         "textposition": "inside",
         "type": "pie"
        }
       ],
       "layout": {
        "height": 400,
        "legend": {
         "tracegroupgap": 0
        },
        "margin": {
         "t": 60
        },
        "template": {
         "data": {
          "bar": [
           {
            "error_x": {
             "color": "#2a3f5f"
            },
            "error_y": {
             "color": "#2a3f5f"
            },
            "marker": {
             "line": {
              "color": "#E5ECF6",
              "width": 0.5
             },
             "pattern": {
              "fillmode": "overlay",
              "size": 10,
              "solidity": 0.2
             }
            },
            "type": "bar"
           }
          ],
          "barpolar": [
           {
            "marker": {
             "line": {
              "color": "#E5ECF6",
              "width": 0.5
             },
             "pattern": {
              "fillmode": "overlay",
              "size": 10,
              "solidity": 0.2
             }
            },
            "type": "barpolar"
           }
          ],
          "carpet": [
           {
            "aaxis": {
             "endlinecolor": "#2a3f5f",
             "gridcolor": "white",
             "linecolor": "white",
             "minorgridcolor": "white",
             "startlinecolor": "#2a3f5f"
            },
            "baxis": {
             "endlinecolor": "#2a3f5f",
             "gridcolor": "white",
             "linecolor": "white",
             "minorgridcolor": "white",
             "startlinecolor": "#2a3f5f"
            },
            "type": "carpet"
           }
          ],
          "choropleth": [
           {
            "colorbar": {
             "outlinewidth": 0,
             "ticks": ""
            },
            "type": "choropleth"
           }
          ],
          "contour": [
           {
            "colorbar": {
             "outlinewidth": 0,
             "ticks": ""
            },
            "colorscale": [
             [
              0,
              "#0d0887"
             ],
             [
              0.1111111111111111,
              "#46039f"
             ],
             [
              0.2222222222222222,
              "#7201a8"
             ],
             [
              0.3333333333333333,
              "#9c179e"
             ],
             [
              0.4444444444444444,
              "#bd3786"
             ],
             [
              0.5555555555555556,
              "#d8576b"
             ],
             [
              0.6666666666666666,
              "#ed7953"
             ],
             [
              0.7777777777777778,
              "#fb9f3a"
             ],
             [
              0.8888888888888888,
              "#fdca26"
             ],
             [
              1,
              "#f0f921"
             ]
            ],
            "type": "contour"
           }
          ],
          "contourcarpet": [
           {
            "colorbar": {
             "outlinewidth": 0,
             "ticks": ""
            },
            "type": "contourcarpet"
           }
          ],
          "heatmap": [
           {
            "colorbar": {
             "outlinewidth": 0,
             "ticks": ""
            },
            "colorscale": [
             [
              0,
              "#0d0887"
             ],
             [
              0.1111111111111111,
              "#46039f"
             ],
             [
              0.2222222222222222,
              "#7201a8"
             ],
             [
              0.3333333333333333,
              "#9c179e"
             ],
             [
              0.4444444444444444,
              "#bd3786"
             ],
             [
              0.5555555555555556,
              "#d8576b"
             ],
             [
              0.6666666666666666,
              "#ed7953"
             ],
             [
              0.7777777777777778,
              "#fb9f3a"
             ],
             [
              0.8888888888888888,
              "#fdca26"
             ],
             [
              1,
              "#f0f921"
             ]
            ],
            "type": "heatmap"
           }
          ],
          "heatmapgl": [
           {
            "colorbar": {
             "outlinewidth": 0,
             "ticks": ""
            },
            "colorscale": [
             [
              0,
              "#0d0887"
             ],
             [
              0.1111111111111111,
              "#46039f"
             ],
             [
              0.2222222222222222,
              "#7201a8"
             ],
             [
              0.3333333333333333,
              "#9c179e"
             ],
             [
              0.4444444444444444,
              "#bd3786"
             ],
             [
              0.5555555555555556,
              "#d8576b"
             ],
             [
              0.6666666666666666,
              "#ed7953"
             ],
             [
              0.7777777777777778,
              "#fb9f3a"
             ],
             [
              0.8888888888888888,
              "#fdca26"
             ],
             [
              1,
              "#f0f921"
             ]
            ],
            "type": "heatmapgl"
           }
          ],
          "histogram": [
           {
            "marker": {
             "pattern": {
              "fillmode": "overlay",
              "size": 10,
              "solidity": 0.2
             }
            },
            "type": "histogram"
           }
          ],
          "histogram2d": [
           {
            "colorbar": {
             "outlinewidth": 0,
             "ticks": ""
            },
            "colorscale": [
             [
              0,
              "#0d0887"
             ],
             [
              0.1111111111111111,
              "#46039f"
             ],
             [
              0.2222222222222222,
              "#7201a8"
             ],
             [
              0.3333333333333333,
              "#9c179e"
             ],
             [
              0.4444444444444444,
              "#bd3786"
             ],
             [
              0.5555555555555556,
              "#d8576b"
             ],
             [
              0.6666666666666666,
              "#ed7953"
             ],
             [
              0.7777777777777778,
              "#fb9f3a"
             ],
             [
              0.8888888888888888,
              "#fdca26"
             ],
             [
              1,
              "#f0f921"
             ]
            ],
            "type": "histogram2d"
           }
          ],
          "histogram2dcontour": [
           {
            "colorbar": {
             "outlinewidth": 0,
             "ticks": ""
            },
            "colorscale": [
             [
              0,
              "#0d0887"
             ],
             [
              0.1111111111111111,
              "#46039f"
             ],
             [
              0.2222222222222222,
              "#7201a8"
             ],
             [
              0.3333333333333333,
              "#9c179e"
             ],
             [
              0.4444444444444444,
              "#bd3786"
             ],
             [
              0.5555555555555556,
              "#d8576b"
             ],
             [
              0.6666666666666666,
              "#ed7953"
             ],
             [
              0.7777777777777778,
              "#fb9f3a"
             ],
             [
              0.8888888888888888,
              "#fdca26"
             ],
             [
              1,
              "#f0f921"
             ]
            ],
            "type": "histogram2dcontour"
           }
          ],
          "mesh3d": [
           {
            "colorbar": {
             "outlinewidth": 0,
             "ticks": ""
            },
            "type": "mesh3d"
           }
          ],
          "parcoords": [
           {
            "line": {
             "colorbar": {
              "outlinewidth": 0,
              "ticks": ""
             }
            },
            "type": "parcoords"
           }
          ],
          "pie": [
           {
            "automargin": true,
            "type": "pie"
           }
          ],
          "scatter": [
           {
            "marker": {
             "colorbar": {
              "outlinewidth": 0,
              "ticks": ""
             }
            },
            "type": "scatter"
           }
          ],
          "scatter3d": [
           {
            "line": {
             "colorbar": {
              "outlinewidth": 0,
              "ticks": ""
             }
            },
            "marker": {
             "colorbar": {
              "outlinewidth": 0,
              "ticks": ""
             }
            },
            "type": "scatter3d"
           }
          ],
          "scattercarpet": [
           {
            "marker": {
             "colorbar": {
              "outlinewidth": 0,
              "ticks": ""
             }
            },
            "type": "scattercarpet"
           }
          ],
          "scattergeo": [
           {
            "marker": {
             "colorbar": {
              "outlinewidth": 0,
              "ticks": ""
             }
            },
            "type": "scattergeo"
           }
          ],
          "scattergl": [
           {
            "marker": {
             "colorbar": {
              "outlinewidth": 0,
              "ticks": ""
             }
            },
            "type": "scattergl"
           }
          ],
          "scattermapbox": [
           {
            "marker": {
             "colorbar": {
              "outlinewidth": 0,
              "ticks": ""
             }
            },
            "type": "scattermapbox"
           }
          ],
          "scatterpolar": [
           {
            "marker": {
             "colorbar": {
              "outlinewidth": 0,
              "ticks": ""
             }
            },
            "type": "scatterpolar"
           }
          ],
          "scatterpolargl": [
           {
            "marker": {
             "colorbar": {
              "outlinewidth": 0,
              "ticks": ""
             }
            },
            "type": "scatterpolargl"
           }
          ],
          "scatterternary": [
           {
            "marker": {
             "colorbar": {
              "outlinewidth": 0,
              "ticks": ""
             }
            },
            "type": "scatterternary"
           }
          ],
          "surface": [
           {
            "colorbar": {
             "outlinewidth": 0,
             "ticks": ""
            },
            "colorscale": [
             [
              0,
              "#0d0887"
             ],
             [
              0.1111111111111111,
              "#46039f"
             ],
             [
              0.2222222222222222,
              "#7201a8"
             ],
             [
              0.3333333333333333,
              "#9c179e"
             ],
             [
              0.4444444444444444,
              "#bd3786"
             ],
             [
              0.5555555555555556,
              "#d8576b"
             ],
             [
              0.6666666666666666,
              "#ed7953"
             ],
             [
              0.7777777777777778,
              "#fb9f3a"
             ],
             [
              0.8888888888888888,
              "#fdca26"
             ],
             [
              1,
              "#f0f921"
             ]
            ],
            "type": "surface"
           }
          ],
          "table": [
           {
            "cells": {
             "fill": {
              "color": "#EBF0F8"
             },
             "line": {
              "color": "white"
             }
            },
            "header": {
             "fill": {
              "color": "#C8D4E3"
             },
             "line": {
              "color": "white"
             }
            },
            "type": "table"
           }
          ]
         },
         "layout": {
          "annotationdefaults": {
           "arrowcolor": "#2a3f5f",
           "arrowhead": 0,
           "arrowwidth": 1
          },
          "autotypenumbers": "strict",
          "coloraxis": {
           "colorbar": {
            "outlinewidth": 0,
            "ticks": ""
           }
          },
          "colorscale": {
           "diverging": [
            [
             0,
             "#8e0152"
            ],
            [
             0.1,
             "#c51b7d"
            ],
            [
             0.2,
             "#de77ae"
            ],
            [
             0.3,
             "#f1b6da"
            ],
            [
             0.4,
             "#fde0ef"
            ],
            [
             0.5,
             "#f7f7f7"
            ],
            [
             0.6,
             "#e6f5d0"
            ],
            [
             0.7,
             "#b8e186"
            ],
            [
             0.8,
             "#7fbc41"
            ],
            [
             0.9,
             "#4d9221"
            ],
            [
             1,
             "#276419"
            ]
           ],
           "sequential": [
            [
             0,
             "#0d0887"
            ],
            [
             0.1111111111111111,
             "#46039f"
            ],
            [
             0.2222222222222222,
             "#7201a8"
            ],
            [
             0.3333333333333333,
             "#9c179e"
            ],
            [
             0.4444444444444444,
             "#bd3786"
            ],
            [
             0.5555555555555556,
             "#d8576b"
            ],
            [
             0.6666666666666666,
             "#ed7953"
            ],
            [
             0.7777777777777778,
             "#fb9f3a"
            ],
            [
             0.8888888888888888,
             "#fdca26"
            ],
            [
             1,
             "#f0f921"
            ]
           ],
           "sequentialminus": [
            [
             0,
             "#0d0887"
            ],
            [
             0.1111111111111111,
             "#46039f"
            ],
            [
             0.2222222222222222,
             "#7201a8"
            ],
            [
             0.3333333333333333,
             "#9c179e"
            ],
            [
             0.4444444444444444,
             "#bd3786"
            ],
            [
             0.5555555555555556,
             "#d8576b"
            ],
            [
             0.6666666666666666,
             "#ed7953"
            ],
            [
             0.7777777777777778,
             "#fb9f3a"
            ],
            [
             0.8888888888888888,
             "#fdca26"
            ],
            [
             1,
             "#f0f921"
            ]
           ]
          },
          "colorway": [
           "#636efa",
           "#EF553B",
           "#00cc96",
           "#ab63fa",
           "#FFA15A",
           "#19d3f3",
           "#FF6692",
           "#B6E880",
           "#FF97FF",
           "#FECB52"
          ],
          "font": {
           "color": "#2a3f5f"
          },
          "geo": {
           "bgcolor": "white",
           "lakecolor": "white",
           "landcolor": "#E5ECF6",
           "showlakes": true,
           "showland": true,
           "subunitcolor": "white"
          },
          "hoverlabel": {
           "align": "left"
          },
          "hovermode": "closest",
          "mapbox": {
           "style": "light"
          },
          "paper_bgcolor": "white",
          "plot_bgcolor": "#E5ECF6",
          "polar": {
           "angularaxis": {
            "gridcolor": "white",
            "linecolor": "white",
            "ticks": ""
           },
           "bgcolor": "#E5ECF6",
           "radialaxis": {
            "gridcolor": "white",
            "linecolor": "white",
            "ticks": ""
           }
          },
          "scene": {
           "xaxis": {
            "backgroundcolor": "#E5ECF6",
            "gridcolor": "white",
            "gridwidth": 2,
            "linecolor": "white",
            "showbackground": true,
            "ticks": "",
            "zerolinecolor": "white"
           },
           "yaxis": {
            "backgroundcolor": "#E5ECF6",
            "gridcolor": "white",
            "gridwidth": 2,
            "linecolor": "white",
            "showbackground": true,
            "ticks": "",
            "zerolinecolor": "white"
           },
           "zaxis": {
            "backgroundcolor": "#E5ECF6",
            "gridcolor": "white",
            "gridwidth": 2,
            "linecolor": "white",
            "showbackground": true,
            "ticks": "",
            "zerolinecolor": "white"
           }
          },
          "shapedefaults": {
           "line": {
            "color": "#2a3f5f"
           }
          },
          "ternary": {
           "aaxis": {
            "gridcolor": "white",
            "linecolor": "white",
            "ticks": ""
           },
           "baxis": {
            "gridcolor": "white",
            "linecolor": "white",
            "ticks": ""
           },
           "bgcolor": "#E5ECF6",
           "caxis": {
            "gridcolor": "white",
            "linecolor": "white",
            "ticks": ""
           }
          },
          "title": {
           "x": 0.05
          },
          "xaxis": {
           "automargin": true,
           "gridcolor": "white",
           "linecolor": "white",
           "ticks": "",
           "title": {
            "standoff": 15
           },
           "zerolinecolor": "white",
           "zerolinewidth": 2
          },
          "yaxis": {
           "automargin": true,
           "gridcolor": "white",
           "linecolor": "white",
           "ticks": "",
           "title": {
            "standoff": 15
           },
           "zerolinecolor": "white",
           "zerolinewidth": 2
          }
         }
        },
        "width": 400
       }
      },
      "text/html": [
       "<div>                            <div id=\"a77009d7-7da2-4bf6-9737-c9aa95fff392\" class=\"plotly-graph-div\" style=\"height:400px; width:400px;\"></div>            <script type=\"text/javascript\">                require([\"plotly\"], function(Plotly) {                    window.PLOTLYENV=window.PLOTLYENV || {};                                    if (document.getElementById(\"a77009d7-7da2-4bf6-9737-c9aa95fff392\")) {                    Plotly.newPlot(                        \"a77009d7-7da2-4bf6-9737-c9aa95fff392\",                        [{\"customdata\":[[\"NEUTRAL\"],[\"POSITIVE\"],[\"POSITIVE\"],[\"NEUTRAL\"],[\"NEUTRAL\"],[\"POSITIVE\"],[\"POSITIVE\"],[\"NEUTRAL\"],[\"NEUTRAL\"],[\"NEUTRAL\"],[\"NEUTRAL\"],[\"POSITIVE\"],[\"POSITIVE\"],[\"NEGATIVE\"],[\"NEUTRAL\"],[\"NEUTRAL\"],[\"NEUTRAL\"],[\"NEUTRAL\"],[\"NEUTRAL\"],[\"NEUTRAL\"],[\"NEUTRAL\"],[\"NEUTRAL\"],[\"NEUTRAL\"],[\"NEUTRAL\"],[\"NEGATIVE\"],[\"POSITIVE\"],[\"NEUTRAL\"],[\"NEUTRAL\"],[\"NEUTRAL\"],[\"NEUTRAL\"],[\"NEUTRAL\"],[\"NEUTRAL\"],[\"NEUTRAL\"],[\"POSITIVE\"],[\"POSITIVE\"],[\"NEUTRAL\"],[\"NEUTRAL\"],[\"NEGATIVE\"],[\"NEUTRAL\"],[\"NEGATIVE\"],[\"NEUTRAL\"],[\"NEUTRAL\"],[\"POSITIVE\"],[\"NEGATIVE\"],[\"NEUTRAL\"],[\"POSITIVE\"],[\"POSITIVE\"],[\"NEUTRAL\"],[\"NEUTRAL\"],[\"NEUTRAL\"],[\"POSITIVE\"],[\"POSITIVE\"],[\"NEGATIVE\"],[\"NEUTRAL\"],[\"NEUTRAL\"],[\"NEUTRAL\"],[\"NEUTRAL\"],[\"NEUTRAL\"],[\"POSITIVE\"],[\"NEUTRAL\"],[\"NEUTRAL\"],[\"NEUTRAL\"],[\"NEUTRAL\"],[\"NEUTRAL\"],[\"NEUTRAL\"],[\"NEUTRAL\"],[\"NEGATIVE\"],[\"NEUTRAL\"],[\"NEUTRAL\"],[\"NEUTRAL\"],[\"NEUTRAL\"],[\"NEUTRAL\"],[\"NEUTRAL\"],[\"NEUTRAL\"],[\"NEUTRAL\"],[\"NEUTRAL\"],[\"NEUTRAL\"],[\"POSITIVE\"],[\"NEUTRAL\"],[\"NEUTRAL\"],[\"NEUTRAL\"],[\"NEUTRAL\"],[\"POSITIVE\"],[\"NEUTRAL\"],[\"NEUTRAL\"],[\"NEUTRAL\"],[\"NEUTRAL\"],[\"NEUTRAL\"],[\"NEUTRAL\"],[\"POSITIVE\"],[\"NEGATIVE\"],[\"NEUTRAL\"],[\"NEUTRAL\"],[\"NEUTRAL\"],[\"NEUTRAL\"],[\"NEUTRAL\"],[\"NEGATIVE\"],[\"NEUTRAL\"],[\"NEUTRAL\"],[\"NEUTRAL\"],[\"NEUTRAL\"],[\"NEUTRAL\"],[\"NEUTRAL\"],[\"NEUTRAL\"],[\"NEUTRAL\"],[\"POSITIVE\"],[\"NEUTRAL\"],[\"NEUTRAL\"],[\"NEUTRAL\"],[\"NEUTRAL\"],[\"NEUTRAL\"],[\"NEUTRAL\"],[\"POSITIVE\"],[\"NEUTRAL\"],[\"POSITIVE\"],[\"POSITIVE\"],[\"NEUTRAL\"],[\"NEUTRAL\"],[\"NEGATIVE\"],[\"POSITIVE\"],[\"POSITIVE\"],[\"NEUTRAL\"],[\"NEUTRAL\"],[\"NEUTRAL\"],[\"NEUTRAL\"],[\"NEUTRAL\"],[\"NEUTRAL\"],[\"POSITIVE\"],[\"NEUTRAL\"],[\"NEUTRAL\"],[\"NEUTRAL\"],[\"NEUTRAL\"],[\"NEUTRAL\"],[\"NEUTRAL\"],[\"NEUTRAL\"],[\"NEUTRAL\"],[\"NEUTRAL\"],[\"NEUTRAL\"],[\"POSITIVE\"],[\"NEUTRAL\"],[\"NEUTRAL\"],[\"NEUTRAL\"],[\"NEUTRAL\"],[\"NEUTRAL\"],[\"NEUTRAL\"],[\"NEUTRAL\"],[\"NEUTRAL\"],[\"NEUTRAL\"],[\"NEUTRAL\"],[\"NEUTRAL\"],[\"NEUTRAL\"],[\"POSITIVE\"],[\"POSITIVE\"],[\"NEUTRAL\"],[\"NEUTRAL\"],[\"NEUTRAL\"],[\"NEUTRAL\"],[\"NEUTRAL\"],[\"NEUTRAL\"],[\"NEUTRAL\"],[\"NEUTRAL\"],[\"NEUTRAL\"],[\"NEGATIVE\"],[\"NEUTRAL\"],[\"POSITIVE\"],[\"POSITIVE\"],[\"POSITIVE\"],[\"POSITIVE\"],[\"NEGATIVE\"],[\"POSITIVE\"],[\"NEGATIVE\"],[\"POSITIVE\"],[\"NEUTRAL\"],[\"POSITIVE\"],[\"NEUTRAL\"],[\"POSITIVE\"],[\"NEUTRAL\"],[\"NEUTRAL\"],[\"NEUTRAL\"],[\"NEUTRAL\"],[\"NEUTRAL\"],[\"NEUTRAL\"],[\"NEUTRAL\"],[\"NEGATIVE\"],[\"POSITIVE\"],[\"NEGATIVE\"],[\"POSITIVE\"],[\"POSITIVE\"],[\"NEUTRAL\"],[\"POSITIVE\"],[\"NEGATIVE\"],[\"POSITIVE\"],[\"NEGATIVE\"],[\"NEUTRAL\"],[\"NEUTRAL\"],[\"NEUTRAL\"],[\"NEUTRAL\"],[\"NEUTRAL\"],[\"NEUTRAL\"],[\"NEUTRAL\"],[\"NEUTRAL\"],[\"NEUTRAL\"],[\"NEUTRAL\"],[\"NEUTRAL\"],[\"NEUTRAL\"],[\"NEUTRAL\"],[\"NEUTRAL\"],[\"POSITIVE\"],[\"NEUTRAL\"],[\"POSITIVE\"],[\"POSITIVE\"],[\"NEGATIVE\"],[\"POSITIVE\"],[\"NEUTRAL\"],[\"POSITIVE\"],[\"NEGATIVE\"],[\"NEUTRAL\"],[\"NEUTRAL\"],[\"NEUTRAL\"],[\"POSITIVE\"],[\"POSITIVE\"],[\"NEGATIVE\"],[\"NEGATIVE\"],[\"POSITIVE\"],[\"NEGATIVE\"],[\"NEGATIVE\"],[\"POSITIVE\"],[\"NEUTRAL\"],[\"NEUTRAL\"],[\"NEUTRAL\"],[\"NEUTRAL\"],[\"POSITIVE\"],[\"POSITIVE\"],[\"NEUTRAL\"],[\"POSITIVE\"],[\"NEUTRAL\"],[\"NEUTRAL\"]],\"domain\":{\"x\":[0.0,1.0],\"y\":[0.0,1.0]},\"hovertemplate\":\"label=%{customdata[0]}<extra></extra>\",\"labels\":[\"NEUTRAL\",\"POSITIVE\",\"POSITIVE\",\"NEUTRAL\",\"NEUTRAL\",\"POSITIVE\",\"POSITIVE\",\"NEUTRAL\",\"NEUTRAL\",\"NEUTRAL\",\"NEUTRAL\",\"POSITIVE\",\"POSITIVE\",\"NEGATIVE\",\"NEUTRAL\",\"NEUTRAL\",\"NEUTRAL\",\"NEUTRAL\",\"NEUTRAL\",\"NEUTRAL\",\"NEUTRAL\",\"NEUTRAL\",\"NEUTRAL\",\"NEUTRAL\",\"NEGATIVE\",\"POSITIVE\",\"NEUTRAL\",\"NEUTRAL\",\"NEUTRAL\",\"NEUTRAL\",\"NEUTRAL\",\"NEUTRAL\",\"NEUTRAL\",\"POSITIVE\",\"POSITIVE\",\"NEUTRAL\",\"NEUTRAL\",\"NEGATIVE\",\"NEUTRAL\",\"NEGATIVE\",\"NEUTRAL\",\"NEUTRAL\",\"POSITIVE\",\"NEGATIVE\",\"NEUTRAL\",\"POSITIVE\",\"POSITIVE\",\"NEUTRAL\",\"NEUTRAL\",\"NEUTRAL\",\"POSITIVE\",\"POSITIVE\",\"NEGATIVE\",\"NEUTRAL\",\"NEUTRAL\",\"NEUTRAL\",\"NEUTRAL\",\"NEUTRAL\",\"POSITIVE\",\"NEUTRAL\",\"NEUTRAL\",\"NEUTRAL\",\"NEUTRAL\",\"NEUTRAL\",\"NEUTRAL\",\"NEUTRAL\",\"NEGATIVE\",\"NEUTRAL\",\"NEUTRAL\",\"NEUTRAL\",\"NEUTRAL\",\"NEUTRAL\",\"NEUTRAL\",\"NEUTRAL\",\"NEUTRAL\",\"NEUTRAL\",\"NEUTRAL\",\"POSITIVE\",\"NEUTRAL\",\"NEUTRAL\",\"NEUTRAL\",\"NEUTRAL\",\"POSITIVE\",\"NEUTRAL\",\"NEUTRAL\",\"NEUTRAL\",\"NEUTRAL\",\"NEUTRAL\",\"NEUTRAL\",\"POSITIVE\",\"NEGATIVE\",\"NEUTRAL\",\"NEUTRAL\",\"NEUTRAL\",\"NEUTRAL\",\"NEUTRAL\",\"NEGATIVE\",\"NEUTRAL\",\"NEUTRAL\",\"NEUTRAL\",\"NEUTRAL\",\"NEUTRAL\",\"NEUTRAL\",\"NEUTRAL\",\"NEUTRAL\",\"POSITIVE\",\"NEUTRAL\",\"NEUTRAL\",\"NEUTRAL\",\"NEUTRAL\",\"NEUTRAL\",\"NEUTRAL\",\"POSITIVE\",\"NEUTRAL\",\"POSITIVE\",\"POSITIVE\",\"NEUTRAL\",\"NEUTRAL\",\"NEGATIVE\",\"POSITIVE\",\"POSITIVE\",\"NEUTRAL\",\"NEUTRAL\",\"NEUTRAL\",\"NEUTRAL\",\"NEUTRAL\",\"NEUTRAL\",\"POSITIVE\",\"NEUTRAL\",\"NEUTRAL\",\"NEUTRAL\",\"NEUTRAL\",\"NEUTRAL\",\"NEUTRAL\",\"NEUTRAL\",\"NEUTRAL\",\"NEUTRAL\",\"NEUTRAL\",\"POSITIVE\",\"NEUTRAL\",\"NEUTRAL\",\"NEUTRAL\",\"NEUTRAL\",\"NEUTRAL\",\"NEUTRAL\",\"NEUTRAL\",\"NEUTRAL\",\"NEUTRAL\",\"NEUTRAL\",\"NEUTRAL\",\"NEUTRAL\",\"POSITIVE\",\"POSITIVE\",\"NEUTRAL\",\"NEUTRAL\",\"NEUTRAL\",\"NEUTRAL\",\"NEUTRAL\",\"NEUTRAL\",\"NEUTRAL\",\"NEUTRAL\",\"NEUTRAL\",\"NEGATIVE\",\"NEUTRAL\",\"POSITIVE\",\"POSITIVE\",\"POSITIVE\",\"POSITIVE\",\"NEGATIVE\",\"POSITIVE\",\"NEGATIVE\",\"POSITIVE\",\"NEUTRAL\",\"POSITIVE\",\"NEUTRAL\",\"POSITIVE\",\"NEUTRAL\",\"NEUTRAL\",\"NEUTRAL\",\"NEUTRAL\",\"NEUTRAL\",\"NEUTRAL\",\"NEUTRAL\",\"NEGATIVE\",\"POSITIVE\",\"NEGATIVE\",\"POSITIVE\",\"POSITIVE\",\"NEUTRAL\",\"POSITIVE\",\"NEGATIVE\",\"POSITIVE\",\"NEGATIVE\",\"NEUTRAL\",\"NEUTRAL\",\"NEUTRAL\",\"NEUTRAL\",\"NEUTRAL\",\"NEUTRAL\",\"NEUTRAL\",\"NEUTRAL\",\"NEUTRAL\",\"NEUTRAL\",\"NEUTRAL\",\"NEUTRAL\",\"NEUTRAL\",\"NEUTRAL\",\"POSITIVE\",\"NEUTRAL\",\"POSITIVE\",\"POSITIVE\",\"NEGATIVE\",\"POSITIVE\",\"NEUTRAL\",\"POSITIVE\",\"NEGATIVE\",\"NEUTRAL\",\"NEUTRAL\",\"NEUTRAL\",\"POSITIVE\",\"POSITIVE\",\"NEGATIVE\",\"NEGATIVE\",\"POSITIVE\",\"NEGATIVE\",\"NEGATIVE\",\"POSITIVE\",\"NEUTRAL\",\"NEUTRAL\",\"NEUTRAL\",\"NEUTRAL\",\"POSITIVE\",\"POSITIVE\",\"NEUTRAL\",\"POSITIVE\",\"NEUTRAL\",\"NEUTRAL\"],\"legendgroup\":\"\",\"marker\":{\"colors\":[\"yellow\",\"green\",\"green\",\"yellow\",\"yellow\",\"green\",\"green\",\"yellow\",\"yellow\",\"yellow\",\"yellow\",\"green\",\"green\",\"red\",\"yellow\",\"yellow\",\"yellow\",\"yellow\",\"yellow\",\"yellow\",\"yellow\",\"yellow\",\"yellow\",\"yellow\",\"red\",\"green\",\"yellow\",\"yellow\",\"yellow\",\"yellow\",\"yellow\",\"yellow\",\"yellow\",\"green\",\"green\",\"yellow\",\"yellow\",\"red\",\"yellow\",\"red\",\"yellow\",\"yellow\",\"green\",\"red\",\"yellow\",\"green\",\"green\",\"yellow\",\"yellow\",\"yellow\",\"green\",\"green\",\"red\",\"yellow\",\"yellow\",\"yellow\",\"yellow\",\"yellow\",\"green\",\"yellow\",\"yellow\",\"yellow\",\"yellow\",\"yellow\",\"yellow\",\"yellow\",\"red\",\"yellow\",\"yellow\",\"yellow\",\"yellow\",\"yellow\",\"yellow\",\"yellow\",\"yellow\",\"yellow\",\"yellow\",\"green\",\"yellow\",\"yellow\",\"yellow\",\"yellow\",\"green\",\"yellow\",\"yellow\",\"yellow\",\"yellow\",\"yellow\",\"yellow\",\"green\",\"red\",\"yellow\",\"yellow\",\"yellow\",\"yellow\",\"yellow\",\"red\",\"yellow\",\"yellow\",\"yellow\",\"yellow\",\"yellow\",\"yellow\",\"yellow\",\"yellow\",\"green\",\"yellow\",\"yellow\",\"yellow\",\"yellow\",\"yellow\",\"yellow\",\"green\",\"yellow\",\"green\",\"green\",\"yellow\",\"yellow\",\"red\",\"green\",\"green\",\"yellow\",\"yellow\",\"yellow\",\"yellow\",\"yellow\",\"yellow\",\"green\",\"yellow\",\"yellow\",\"yellow\",\"yellow\",\"yellow\",\"yellow\",\"yellow\",\"yellow\",\"yellow\",\"yellow\",\"green\",\"yellow\",\"yellow\",\"yellow\",\"yellow\",\"yellow\",\"yellow\",\"yellow\",\"yellow\",\"yellow\",\"yellow\",\"yellow\",\"yellow\",\"green\",\"green\",\"yellow\",\"yellow\",\"yellow\",\"yellow\",\"yellow\",\"yellow\",\"yellow\",\"yellow\",\"yellow\",\"red\",\"yellow\",\"green\",\"green\",\"green\",\"green\",\"red\",\"green\",\"red\",\"green\",\"yellow\",\"green\",\"yellow\",\"green\",\"yellow\",\"yellow\",\"yellow\",\"yellow\",\"yellow\",\"yellow\",\"yellow\",\"red\",\"green\",\"red\",\"green\",\"green\",\"yellow\",\"green\",\"red\",\"green\",\"red\",\"yellow\",\"yellow\",\"yellow\",\"yellow\",\"yellow\",\"yellow\",\"yellow\",\"yellow\",\"yellow\",\"yellow\",\"yellow\",\"yellow\",\"yellow\",\"yellow\",\"green\",\"yellow\",\"green\",\"green\",\"red\",\"green\",\"yellow\",\"green\",\"red\",\"yellow\",\"yellow\",\"yellow\",\"green\",\"green\",\"red\",\"red\",\"green\",\"red\",\"red\",\"green\",\"yellow\",\"yellow\",\"yellow\",\"yellow\",\"green\",\"green\",\"yellow\",\"green\",\"yellow\",\"yellow\"]},\"name\":\"\",\"showlegend\":true,\"type\":\"pie\",\"textinfo\":\"percent+label\",\"textposition\":\"inside\"}],                        {\"template\":{\"data\":{\"bar\":[{\"error_x\":{\"color\":\"#2a3f5f\"},\"error_y\":{\"color\":\"#2a3f5f\"},\"marker\":{\"line\":{\"color\":\"#E5ECF6\",\"width\":0.5},\"pattern\":{\"fillmode\":\"overlay\",\"size\":10,\"solidity\":0.2}},\"type\":\"bar\"}],\"barpolar\":[{\"marker\":{\"line\":{\"color\":\"#E5ECF6\",\"width\":0.5},\"pattern\":{\"fillmode\":\"overlay\",\"size\":10,\"solidity\":0.2}},\"type\":\"barpolar\"}],\"carpet\":[{\"aaxis\":{\"endlinecolor\":\"#2a3f5f\",\"gridcolor\":\"white\",\"linecolor\":\"white\",\"minorgridcolor\":\"white\",\"startlinecolor\":\"#2a3f5f\"},\"baxis\":{\"endlinecolor\":\"#2a3f5f\",\"gridcolor\":\"white\",\"linecolor\":\"white\",\"minorgridcolor\":\"white\",\"startlinecolor\":\"#2a3f5f\"},\"type\":\"carpet\"}],\"choropleth\":[{\"colorbar\":{\"outlinewidth\":0,\"ticks\":\"\"},\"type\":\"choropleth\"}],\"contour\":[{\"colorbar\":{\"outlinewidth\":0,\"ticks\":\"\"},\"colorscale\":[[0.0,\"#0d0887\"],[0.1111111111111111,\"#46039f\"],[0.2222222222222222,\"#7201a8\"],[0.3333333333333333,\"#9c179e\"],[0.4444444444444444,\"#bd3786\"],[0.5555555555555556,\"#d8576b\"],[0.6666666666666666,\"#ed7953\"],[0.7777777777777778,\"#fb9f3a\"],[0.8888888888888888,\"#fdca26\"],[1.0,\"#f0f921\"]],\"type\":\"contour\"}],\"contourcarpet\":[{\"colorbar\":{\"outlinewidth\":0,\"ticks\":\"\"},\"type\":\"contourcarpet\"}],\"heatmap\":[{\"colorbar\":{\"outlinewidth\":0,\"ticks\":\"\"},\"colorscale\":[[0.0,\"#0d0887\"],[0.1111111111111111,\"#46039f\"],[0.2222222222222222,\"#7201a8\"],[0.3333333333333333,\"#9c179e\"],[0.4444444444444444,\"#bd3786\"],[0.5555555555555556,\"#d8576b\"],[0.6666666666666666,\"#ed7953\"],[0.7777777777777778,\"#fb9f3a\"],[0.8888888888888888,\"#fdca26\"],[1.0,\"#f0f921\"]],\"type\":\"heatmap\"}],\"heatmapgl\":[{\"colorbar\":{\"outlinewidth\":0,\"ticks\":\"\"},\"colorscale\":[[0.0,\"#0d0887\"],[0.1111111111111111,\"#46039f\"],[0.2222222222222222,\"#7201a8\"],[0.3333333333333333,\"#9c179e\"],[0.4444444444444444,\"#bd3786\"],[0.5555555555555556,\"#d8576b\"],[0.6666666666666666,\"#ed7953\"],[0.7777777777777778,\"#fb9f3a\"],[0.8888888888888888,\"#fdca26\"],[1.0,\"#f0f921\"]],\"type\":\"heatmapgl\"}],\"histogram\":[{\"marker\":{\"pattern\":{\"fillmode\":\"overlay\",\"size\":10,\"solidity\":0.2}},\"type\":\"histogram\"}],\"histogram2d\":[{\"colorbar\":{\"outlinewidth\":0,\"ticks\":\"\"},\"colorscale\":[[0.0,\"#0d0887\"],[0.1111111111111111,\"#46039f\"],[0.2222222222222222,\"#7201a8\"],[0.3333333333333333,\"#9c179e\"],[0.4444444444444444,\"#bd3786\"],[0.5555555555555556,\"#d8576b\"],[0.6666666666666666,\"#ed7953\"],[0.7777777777777778,\"#fb9f3a\"],[0.8888888888888888,\"#fdca26\"],[1.0,\"#f0f921\"]],\"type\":\"histogram2d\"}],\"histogram2dcontour\":[{\"colorbar\":{\"outlinewidth\":0,\"ticks\":\"\"},\"colorscale\":[[0.0,\"#0d0887\"],[0.1111111111111111,\"#46039f\"],[0.2222222222222222,\"#7201a8\"],[0.3333333333333333,\"#9c179e\"],[0.4444444444444444,\"#bd3786\"],[0.5555555555555556,\"#d8576b\"],[0.6666666666666666,\"#ed7953\"],[0.7777777777777778,\"#fb9f3a\"],[0.8888888888888888,\"#fdca26\"],[1.0,\"#f0f921\"]],\"type\":\"histogram2dcontour\"}],\"mesh3d\":[{\"colorbar\":{\"outlinewidth\":0,\"ticks\":\"\"},\"type\":\"mesh3d\"}],\"parcoords\":[{\"line\":{\"colorbar\":{\"outlinewidth\":0,\"ticks\":\"\"}},\"type\":\"parcoords\"}],\"pie\":[{\"automargin\":true,\"type\":\"pie\"}],\"scatter\":[{\"marker\":{\"colorbar\":{\"outlinewidth\":0,\"ticks\":\"\"}},\"type\":\"scatter\"}],\"scatter3d\":[{\"line\":{\"colorbar\":{\"outlinewidth\":0,\"ticks\":\"\"}},\"marker\":{\"colorbar\":{\"outlinewidth\":0,\"ticks\":\"\"}},\"type\":\"scatter3d\"}],\"scattercarpet\":[{\"marker\":{\"colorbar\":{\"outlinewidth\":0,\"ticks\":\"\"}},\"type\":\"scattercarpet\"}],\"scattergeo\":[{\"marker\":{\"colorbar\":{\"outlinewidth\":0,\"ticks\":\"\"}},\"type\":\"scattergeo\"}],\"scattergl\":[{\"marker\":{\"colorbar\":{\"outlinewidth\":0,\"ticks\":\"\"}},\"type\":\"scattergl\"}],\"scattermapbox\":[{\"marker\":{\"colorbar\":{\"outlinewidth\":0,\"ticks\":\"\"}},\"type\":\"scattermapbox\"}],\"scatterpolar\":[{\"marker\":{\"colorbar\":{\"outlinewidth\":0,\"ticks\":\"\"}},\"type\":\"scatterpolar\"}],\"scatterpolargl\":[{\"marker\":{\"colorbar\":{\"outlinewidth\":0,\"ticks\":\"\"}},\"type\":\"scatterpolargl\"}],\"scatterternary\":[{\"marker\":{\"colorbar\":{\"outlinewidth\":0,\"ticks\":\"\"}},\"type\":\"scatterternary\"}],\"surface\":[{\"colorbar\":{\"outlinewidth\":0,\"ticks\":\"\"},\"colorscale\":[[0.0,\"#0d0887\"],[0.1111111111111111,\"#46039f\"],[0.2222222222222222,\"#7201a8\"],[0.3333333333333333,\"#9c179e\"],[0.4444444444444444,\"#bd3786\"],[0.5555555555555556,\"#d8576b\"],[0.6666666666666666,\"#ed7953\"],[0.7777777777777778,\"#fb9f3a\"],[0.8888888888888888,\"#fdca26\"],[1.0,\"#f0f921\"]],\"type\":\"surface\"}],\"table\":[{\"cells\":{\"fill\":{\"color\":\"#EBF0F8\"},\"line\":{\"color\":\"white\"}},\"header\":{\"fill\":{\"color\":\"#C8D4E3\"},\"line\":{\"color\":\"white\"}},\"type\":\"table\"}]},\"layout\":{\"annotationdefaults\":{\"arrowcolor\":\"#2a3f5f\",\"arrowhead\":0,\"arrowwidth\":1},\"autotypenumbers\":\"strict\",\"coloraxis\":{\"colorbar\":{\"outlinewidth\":0,\"ticks\":\"\"}},\"colorscale\":{\"diverging\":[[0,\"#8e0152\"],[0.1,\"#c51b7d\"],[0.2,\"#de77ae\"],[0.3,\"#f1b6da\"],[0.4,\"#fde0ef\"],[0.5,\"#f7f7f7\"],[0.6,\"#e6f5d0\"],[0.7,\"#b8e186\"],[0.8,\"#7fbc41\"],[0.9,\"#4d9221\"],[1,\"#276419\"]],\"sequential\":[[0.0,\"#0d0887\"],[0.1111111111111111,\"#46039f\"],[0.2222222222222222,\"#7201a8\"],[0.3333333333333333,\"#9c179e\"],[0.4444444444444444,\"#bd3786\"],[0.5555555555555556,\"#d8576b\"],[0.6666666666666666,\"#ed7953\"],[0.7777777777777778,\"#fb9f3a\"],[0.8888888888888888,\"#fdca26\"],[1.0,\"#f0f921\"]],\"sequentialminus\":[[0.0,\"#0d0887\"],[0.1111111111111111,\"#46039f\"],[0.2222222222222222,\"#7201a8\"],[0.3333333333333333,\"#9c179e\"],[0.4444444444444444,\"#bd3786\"],[0.5555555555555556,\"#d8576b\"],[0.6666666666666666,\"#ed7953\"],[0.7777777777777778,\"#fb9f3a\"],[0.8888888888888888,\"#fdca26\"],[1.0,\"#f0f921\"]]},\"colorway\":[\"#636efa\",\"#EF553B\",\"#00cc96\",\"#ab63fa\",\"#FFA15A\",\"#19d3f3\",\"#FF6692\",\"#B6E880\",\"#FF97FF\",\"#FECB52\"],\"font\":{\"color\":\"#2a3f5f\"},\"geo\":{\"bgcolor\":\"white\",\"lakecolor\":\"white\",\"landcolor\":\"#E5ECF6\",\"showlakes\":true,\"showland\":true,\"subunitcolor\":\"white\"},\"hoverlabel\":{\"align\":\"left\"},\"hovermode\":\"closest\",\"mapbox\":{\"style\":\"light\"},\"paper_bgcolor\":\"white\",\"plot_bgcolor\":\"#E5ECF6\",\"polar\":{\"angularaxis\":{\"gridcolor\":\"white\",\"linecolor\":\"white\",\"ticks\":\"\"},\"bgcolor\":\"#E5ECF6\",\"radialaxis\":{\"gridcolor\":\"white\",\"linecolor\":\"white\",\"ticks\":\"\"}},\"scene\":{\"xaxis\":{\"backgroundcolor\":\"#E5ECF6\",\"gridcolor\":\"white\",\"gridwidth\":2,\"linecolor\":\"white\",\"showbackground\":true,\"ticks\":\"\",\"zerolinecolor\":\"white\"},\"yaxis\":{\"backgroundcolor\":\"#E5ECF6\",\"gridcolor\":\"white\",\"gridwidth\":2,\"linecolor\":\"white\",\"showbackground\":true,\"ticks\":\"\",\"zerolinecolor\":\"white\"},\"zaxis\":{\"backgroundcolor\":\"#E5ECF6\",\"gridcolor\":\"white\",\"gridwidth\":2,\"linecolor\":\"white\",\"showbackground\":true,\"ticks\":\"\",\"zerolinecolor\":\"white\"}},\"shapedefaults\":{\"line\":{\"color\":\"#2a3f5f\"}},\"ternary\":{\"aaxis\":{\"gridcolor\":\"white\",\"linecolor\":\"white\",\"ticks\":\"\"},\"baxis\":{\"gridcolor\":\"white\",\"linecolor\":\"white\",\"ticks\":\"\"},\"bgcolor\":\"#E5ECF6\",\"caxis\":{\"gridcolor\":\"white\",\"linecolor\":\"white\",\"ticks\":\"\"}},\"title\":{\"x\":0.05},\"xaxis\":{\"automargin\":true,\"gridcolor\":\"white\",\"linecolor\":\"white\",\"ticks\":\"\",\"title\":{\"standoff\":15},\"zerolinecolor\":\"white\",\"zerolinewidth\":2},\"yaxis\":{\"automargin\":true,\"gridcolor\":\"white\",\"linecolor\":\"white\",\"ticks\":\"\",\"title\":{\"standoff\":15},\"zerolinecolor\":\"white\",\"zerolinewidth\":2}}},\"legend\":{\"tracegroupgap\":0},\"margin\":{\"t\":60},\"height\":400,\"width\":400},                        {\"responsive\": true}                    ).then(function(){\n",
       "                            \n",
       "var gd = document.getElementById('a77009d7-7da2-4bf6-9737-c9aa95fff392');\n",
       "var x = new MutationObserver(function (mutations, observer) {{\n",
       "        var display = window.getComputedStyle(gd).display;\n",
       "        if (!display || display === 'none') {{\n",
       "            console.log([gd, 'removed!']);\n",
       "            Plotly.purge(gd);\n",
       "            observer.disconnect();\n",
       "        }}\n",
       "}});\n",
       "\n",
       "// Listen for the removal of the full notebook cells\n",
       "var notebookContainer = gd.closest('#notebook-container');\n",
       "if (notebookContainer) {{\n",
       "    x.observe(notebookContainer, {childList: true});\n",
       "}}\n",
       "\n",
       "// Listen for the clearing of the current output cell\n",
       "var outputEl = gd.closest('.output');\n",
       "if (outputEl) {{\n",
       "    x.observe(outputEl, {childList: true});\n",
       "}}\n",
       "\n",
       "                        })                };                });            </script>        </div>"
      ]
     },
     "metadata": {},
     "output_type": "display_data"
    },
    {
     "data": {
      "text/html": [
       "<style type=\"text/css\">\n",
       "#T_de937_row0_col1, #T_de937_row3_col1, #T_de937_row4_col1, #T_de937_row7_col1, #T_de937_row8_col1, #T_de937_row9_col1 {\n",
       "  background: yellow;\n",
       "}\n",
       "#T_de937_row1_col1, #T_de937_row2_col1, #T_de937_row5_col1, #T_de937_row6_col1 {\n",
       "  background: green;\n",
       "}\n",
       "</style>\n",
       "<table id=\"T_de937_\">\n",
       "  <thead>\n",
       "    <tr>\n",
       "      <th class=\"blank level0\" >&nbsp;</th>\n",
       "      <th class=\"col_heading level0 col0\" >text</th>\n",
       "      <th class=\"col_heading level0 col1\" >label</th>\n",
       "      <th class=\"col_heading level0 col2\" >score</th>\n",
       "    </tr>\n",
       "  </thead>\n",
       "  <tbody>\n",
       "    <tr>\n",
       "      <th id=\"T_de937_level0_row0\" class=\"row_heading level0 row0\" >0</th>\n",
       "      <td id=\"T_de937_row0_col0\" class=\"data row0 col0\" >Okay, so let me introduce everybody to everybody else, first of all So we're here at the University of San Francisco learning Machine Learning or you might be at home watching this on video</td>\n",
       "      <td id=\"T_de937_row0_col1\" class=\"data row0 col1\" >NEUTRAL</td>\n",
       "      <td id=\"T_de937_row0_col2\" class=\"data row0 col2\" >0.711917</td>\n",
       "    </tr>\n",
       "    <tr>\n",
       "      <th id=\"T_de937_level0_row1\" class=\"row_heading level0 row1\" >1</th>\n",
       "      <td id=\"T_de937_row1_col0\" class=\"data row1 col0\" >You can then turn off enable GPU and click start Jupyter, and you'll have a Jupyter notebook instantly that costs you some money. It's Three cents an hour, okay, so if you don't mind spending three cents an hour to learn machine learning Here's a good way, so I'm going to go ahead and say start Jupyter</td>\n",
       "      <td id=\"T_de937_row1_col1\" class=\"data row1 col1\" >POSITIVE</td>\n",
       "      <td id=\"T_de937_row1_col2\" class=\"data row1 col2\" >0.513862</td>\n",
       "    </tr>\n",
       "    <tr>\n",
       "      <th id=\"T_de937_level0_row2\" class=\"row_heading level0 row2\" >2</th>\n",
       "      <td id=\"T_de937_row2_col0\" class=\"data row2 col0\" >And approaches to setting up lots of different environments for Jupyter notebook Both the deep learning and for regular machine learning so check them out because there's lots of options So if I then go open Jupyter in a new tab</td>\n",
       "      <td id=\"T_de937_row2_col1\" class=\"data row2 col1\" >POSITIVE</td>\n",
       "      <td id=\"T_de937_row2_col2\" class=\"data row2 col2\" >0.630385</td>\n",
       "    </tr>\n",
       "    <tr>\n",
       "      <th id=\"T_de937_level0_row3\" class=\"row_heading level0 row3\" >3</th>\n",
       "      <td id=\"T_de937_row3_col0\" class=\"data row3 col0\" >Lessons are inside the courses folder and the machine learning part one is in the ml1 folder if</td>\n",
       "      <td id=\"T_de937_row3_col1\" class=\"data row3 col1\" >NEUTRAL</td>\n",
       "      <td id=\"T_de937_row3_col2\" class=\"data row3 col2\" >0.875287</td>\n",
       "    </tr>\n",
       "    <tr>\n",
       "      <th id=\"T_de937_level0_row4\" class=\"row_heading level0 row4\" >4</th>\n",
       "      <td id=\"T_de937_row4_col0\" class=\"data row4 col0\" >Other people's research. This is more a summary of 25 years of work that I've been doing in machine learning So a lot of this is</td>\n",
       "      <td id=\"T_de937_row4_col1\" class=\"data row4 col1\" >NEUTRAL</td>\n",
       "      <td id=\"T_de937_row4_col2\" class=\"data row4 col2\" >0.784483</td>\n",
       "    </tr>\n",
       "    <tr>\n",
       "      <th id=\"T_de937_level0_row5\" class=\"row_heading level0 row5\" >5</th>\n",
       "      <td id=\"T_de937_row5_col0\" class=\"data row5 col0\" >We're going to be using, The other library we'll use a lot is scikit-learn Which kind of implements a lot of machine learning stuff in Python. The scikit-learn Source code is often pretty readable and so very often if I want to really understand something</td>\n",
       "      <td id=\"T_de937_row5_col1\" class=\"data row5 col1\" >POSITIVE</td>\n",
       "      <td id=\"T_de937_row5_col2\" class=\"data row5 col2\" >0.766511</td>\n",
       "    </tr>\n",
       "    <tr>\n",
       "      <th id=\"T_de937_level0_row6\" class=\"row_heading level0 row6\" >6</th>\n",
       "      <td id=\"T_de937_row6_col0\" class=\"data row6 col0\" >Right, so these are pretty authentic Experiences for applied machine learning now of course you're missing all the bit that went before Which was why did this company to start up the side that predicting the option sale price of bulldozers was important</td>\n",
       "      <td id=\"T_de937_row6_col1\" class=\"data row6 col1\" >POSITIVE</td>\n",
       "      <td id=\"T_de937_row6_col2\" class=\"data row6 col2\" >0.576044</td>\n",
       "    </tr>\n",
       "    <tr>\n",
       "      <th id=\"T_de937_level0_row7\" class=\"row_heading level0 row7\" >7</th>\n",
       "      <td id=\"T_de937_row7_col0\" class=\"data row7 col0\" >I refer to this as structured data now I say I refer to this as structured data because like there have been many arguments in the machine learning community on Twitter about What is structured data?</td>\n",
       "      <td id=\"T_de937_row7_col1\" class=\"data row7 col1\" >NEUTRAL</td>\n",
       "      <td id=\"T_de937_row7_col2\" class=\"data row7 col2\" >0.732114</td>\n",
       "    </tr>\n",
       "    <tr>\n",
       "      <th id=\"T_de937_level0_row8\" class=\"row_heading level0 row8\" >8</th>\n",
       "      <td id=\"T_de937_row8_col0\" class=\"data row8 col0\" >That looks like this and data like images where every column is of the same type Like that's the most important distinction in machine learning Yet, we don't have</td>\n",
       "      <td id=\"T_de937_row8_col1\" class=\"data row8 col1\" >NEUTRAL</td>\n",
       "      <td id=\"T_de937_row8_col2\" class=\"data row8 col2\" >0.531000</td>\n",
       "    </tr>\n",
       "    <tr>\n",
       "      <th id=\"T_de937_level0_row9\" class=\"row_heading level0 row9\" >9</th>\n",
       "      <td id=\"T_de937_row9_col0\" class=\"data row9 col0\" >The academic books I've read say that that's one of the biggest risks of everything, but the practical books say, let's do some EDA first Yeah, so that the truth is kind of somewhere in between and I generally I generally try to do machine learning driven EDA and that's what we're going to learn today</td>\n",
       "      <td id=\"T_de937_row9_col1\" class=\"data row9 col1\" >NEUTRAL</td>\n",
       "      <td id=\"T_de937_row9_col2\" class=\"data row9 col2\" >0.694325</td>\n",
       "    </tr>\n",
       "  </tbody>\n",
       "</table>\n"
      ],
      "text/plain": [
       "<pandas.io.formats.style.Styler at 0x7fe8d8288d60>"
      ]
     },
     "execution_count": 19,
     "metadata": {},
     "output_type": "execute_result"
    }
   ],
   "source": [
    "viz(sents,sents[:10]) # pass a slice, don't print the entire df"
   ]
  }
 ],
 "metadata": {
  "kernelspec": {
   "display_name": "Python 3 (ipykernel)",
   "language": "python",
   "name": "python3"
  },
  "language_info": {
   "codemirror_mode": {
    "name": "ipython",
    "version": 3
   },
   "file_extension": ".py",
   "mimetype": "text/x-python",
   "name": "python",
   "nbconvert_exporter": "python",
   "pygments_lexer": "ipython3",
   "version": "3.9.7"
  }
 },
 "nbformat": 4,
 "nbformat_minor": 5
}
